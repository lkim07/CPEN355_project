{
 "cells": [
  {
   "cell_type": "code",
   "execution_count": 1,
   "metadata": {},
   "outputs": [],
   "source": [
    "import yfinance as yf\n",
    "import pandas as pd\n",
    "import numpy as np\n",
    "import matplotlib.pyplot as plt\n",
    "from pandas.tseries.offsets import MonthEnd\n",
    "import seaborn as sns\n",
    "from sklearn.model_selection import train_test_split, cross_val_score\n",
    "from sklearn.metrics import mean_absolute_error, mean_squared_error, r2_score, f1_score\n",
    "from sklearn.linear_model import LinearRegression\n",
    "from sklearn.svm import SVR\n",
    "from sklearn.ensemble import RandomForestRegressor\n",
    "from sklearn.multioutput import MultiOutputRegressor"
   ]
  },
  {
   "cell_type": "code",
   "execution_count": 2,
   "metadata": {},
   "outputs": [
    {
     "name": "stderr",
     "output_type": "stream",
     "text": [
      "[*********************100%***********************]  1 of 1 completed\n",
      "C:\\Users\\User\\AppData\\Local\\Temp\\ipykernel_7892\\2458744912.py:12: DtypeWarning: Columns (13) have mixed types. Specify dtype option on import or set low_memory=False.\n",
      "  gdp = pd.read_csv(file_path_gdp)\n"
     ]
    }
   ],
   "source": [
    "tsx = yf.download(\"^GSPTSE\", start=\"2010-01-01\", end=\"2023-01-01\")\n",
    "tsx.sort_values(by=['Date'], inplace=True, ascending=False)\n",
    "tsx.reset_index(inplace=True)\n",
    "\n",
    "START_DATE = \"2010/01/01\"\n",
    "END_DATE = \"2023/01/01\"\n",
    "\n",
    "file_path_cpi_inflation = \"src/CPI_and_inflation.csv\"\n",
    "cpi_inflation = pd.read_csv(file_path_cpi_inflation)\n",
    "\n",
    "file_path_gdp = \"src/GDP_growthRate.csv\"\n",
    "gdp = pd.read_csv(file_path_gdp)\n",
    "\n",
    "file_path_unemployment = \"src/Unemployment rates.csv\"\n",
    "unemployment = pd.read_csv(file_path_unemployment)"
   ]
  },
  {
   "cell_type": "code",
   "execution_count": 3,
   "metadata": {},
   "outputs": [],
   "source": [
    "tsx['Date'] = pd.to_datetime(tsx['Date']).dt.strftime('%Y/%m/%d')\n",
    "\n",
    "cpi_inflation['Date'] = pd.to_datetime(cpi_inflation['REF_DATE'], format='%Y-%m').dt.strftime('%Y/%m/01')\n",
    "\n",
    "gdp['Date'] = pd.to_datetime(gdp['REF_DATE'], format='%Y-%m').dt.strftime('%Y/%m/01')\n",
    "\n",
    "unemployment['Date'] = pd.to_datetime(unemployment['REF_DATE'].astype(str) + '-01-01', format='%Y-%m-%d').dt.strftime('%Y/%m/%d')"
   ]
  },
  {
   "cell_type": "code",
   "execution_count": 4,
   "metadata": {},
   "outputs": [],
   "source": [
    "cpi_filtered_data = cpi_inflation[(cpi_inflation['Date'] >= START_DATE) & (cpi_inflation['Date'] <= END_DATE)]\n",
    "gdp_filtered_data = gdp[(gdp['Date'] >= START_DATE) & (gdp['Date'] <= END_DATE)]\n",
    "unemployment_filtered_data = unemployment[(unemployment['Date'] >= START_DATE) & (unemployment['Date'] <= END_DATE)]"
   ]
  },
  {
   "cell_type": "code",
   "execution_count": 5,
   "metadata": {},
   "outputs": [
    {
     "name": "stdout",
     "output_type": "stream",
     "text": [
      "Index(['REF_DATE', 'GEO', 'DGUID', 'Alternative measures', 'UOM', 'UOM_ID',\n",
      "       'SCALAR_FACTOR', 'SCALAR_ID', 'VECTOR', 'COORDINATE', 'VALUE', 'STATUS',\n",
      "       'SYMBOL', 'TERMINATED', 'DECIMALS', 'Date'],\n",
      "      dtype='object') '\n",
      "', Index(['REF_DATE', 'GEO', 'DGUID', 'Seasonal adjustment', 'Prices',\n",
      "       'North American Industry Classification System (NAICS)', 'UOM',\n",
      "       'UOM_ID', 'SCALAR_FACTOR', 'SCALAR_ID', 'VECTOR', 'COORDINATE', 'VALUE',\n",
      "       'STATUS', 'SYMBOL', 'TERMINATED', 'DECIMALS', 'Date'],\n",
      "      dtype='object')'\n",
      "', Index(['REF_DATE', 'GEO', 'DGUID',\n",
      "       'Characteristics of the population aged 15 and over',\n",
      "       'Educational attainment', 'UOM', 'UOM_ID', 'SCALAR_FACTOR', 'SCALAR_ID',\n",
      "       'VECTOR', 'COORDINATE', 'VALUE', 'STATUS', 'SYMBOL', 'TERMINATED',\n",
      "       'DECIMALS', 'Date'],\n",
      "      dtype='object')'\n",
      "'\n"
     ]
    }
   ],
   "source": [
    "print(f\"{cpi_filtered_data.columns} '\\n', {gdp_filtered_data.columns}'\\n', {unemployment_filtered_data.columns}'\\n'\")"
   ]
  },
  {
   "cell_type": "code",
   "execution_count": 6,
   "metadata": {},
   "outputs": [],
   "source": [
    "cpi_filtered_data = cpi_inflation[(cpi_inflation['Date'] >= START_DATE) & (cpi_inflation['Date'] <= END_DATE)]\n",
    "gdp_filtered_data = gdp[(gdp['Date'] >= START_DATE) & (gdp['Date'] <= END_DATE)]\n",
    "unemployment_filtered_data = unemployment[(unemployment['Date'] >= START_DATE) & (unemployment['Date'] <= END_DATE)]"
   ]
  },
  {
   "cell_type": "code",
   "execution_count": 7,
   "metadata": {},
   "outputs": [
    {
     "name": "stdout",
     "output_type": "stream",
     "text": [
      "['Measure of core inflation based on a factor model, CPI-common (year-over-year percent change)'\n",
      " 'Measure of core inflation based on a weighted median approach, CPI-median (year-over-year percent change)'\n",
      " 'Measure of core inflation based on a trimmed mean approach, CPI-trim (year-over-year percent change)'\n",
      " 'Measure of core inflation based on a weighted median approach, CPI-median (index, 198901=100)'\n",
      " 'Measure of core inflation based on a trimmed mean approach, CPI-trim (index, 198901=100)'\n",
      " 'Consumer Price Index (CPI), all-items excluding eight of the most volatile components as defined by the Bank of Canada and excluding the effect of changes in indirect taxes'\n",
      " 'Consumer Price Index (CPI), all-items excluding eight of the most volatile components as defined by the Bank of Canada'\n",
      " 'Consumer Price Index (CPI), all-items excluding the effect of indirect taxes'\n",
      " 'Consumer Price Index (CPI), all-items excluding eight of the most volatile components as defined by the Bank of Canada and excluding the effect of changes in indirect taxes, seasonally adjusted'\n",
      " 'Consumer Price Index (CPI), all-items excluding eight of the most volatile components as defined by the Bank of Canada, seasonally adjusted'\n",
      " 'Consumer Price Index (CPI), all-items excluding the effect of indirect taxes, seasonally adjusted']\n"
     ]
    }
   ],
   "source": [
    "print(cpi_filtered_data['Alternative measures'].unique())"
   ]
  },
  {
   "cell_type": "code",
   "execution_count": 8,
   "metadata": {},
   "outputs": [],
   "source": [
    "cpi_filtered_data = cpi_filtered_data[['Date', 'Alternative measures', 'VALUE']]\n",
    "condition = (\n",
    "    cpi_filtered_data['Alternative measures'] ==\n",
    "    \"Consumer Price Index (CPI), all-items excluding eight of the most volatile components as defined by the Bank of Canada and excluding the effect of changes in indirect taxes\"\n",
    ")\n",
    "cpi_filtered_data = cpi_filtered_data[condition]\n",
    "\n",
    "cpi_filtered_data.pop('Alternative measures')\n",
    "cpi_filtered_data.rename(columns={'VALUE': 'CPI value'}, inplace=True)"
   ]
  },
  {
   "cell_type": "code",
   "execution_count": 9,
   "metadata": {},
   "outputs": [
    {
     "name": "stdout",
     "output_type": "stream",
     "text": [
      "['All industries [T001]' 'Goods-producing industries [T002]'\n",
      " 'Service-producing industries [T003]' 'Business sector industries [T004]'\n",
      " 'Business sector, goods [T005]' 'Business sector, services [T006]'\n",
      " 'Non-business sector industries [T007]'\n",
      " 'Non-business sector, goods [T008]'\n",
      " 'Non-business sector, services [T009]' 'Industrial production [T010]'\n",
      " 'Non-durable manufacturing industries [T011]'\n",
      " 'Durable manufacturing industries [T012]'\n",
      " 'Information and communication technology sector [T013]'\n",
      " 'Information and communication technology, manufacturing [T014]'\n",
      " 'Information and communication technology, services [T015]'\n",
      " 'Energy sector [T016]' 'Industrial production (1950 definition) [T017]'\n",
      " 'Public Sector [T018]' 'Content and media sector [T019]'\n",
      " 'All industries (except cannabis sector) [T020]' 'Cannabis sector [T021]'\n",
      " 'Cannabis sector (licensed) [T022]' 'Cannabis sector (unlicensed) [T023]'\n",
      " 'All industries (except unlicensed cannabis sector) [T024]'\n",
      " 'Agriculture, forestry, fishing and hunting [11]'\n",
      " 'Crop and animal production [11A]' 'Crop production [111]'\n",
      " 'Crop production (except cannabis) [111X]' 'Cannabis production [111C]'\n",
      " 'Cannabis production (licensed) [111CL]'\n",
      " 'Cannabis production (unlicensed) [111CU]' 'Animal production [112]'\n",
      " 'Forestry and logging [113]' 'Fishing, hunting and trapping [114]'\n",
      " 'Support activities for agriculture and forestry [115]'\n",
      " 'Mining, quarrying, and oil and gas extraction [21]'\n",
      " 'Oil and gas extraction [211]'\n",
      " 'Oil and gas extraction (except oil sands) [21111]'\n",
      " 'Oil sands extraction [21114]'\n",
      " 'Mining and quarrying (except oil and gas) [212]' 'Coal mining [2121]'\n",
      " 'Metal ore mining [2122]' 'Iron ore mining [21221]'\n",
      " 'Gold and silver ore mining [21222]'\n",
      " 'Copper, nickel, lead and zinc ore mining [21223]'\n",
      " 'Other metal ore mining [21229]'\n",
      " 'Non-metallic mineral mining and quarrying [2123]'\n",
      " 'Stone mining and quarrying [21231]'\n",
      " 'Sand, gravel, clay, and ceramic and refractory minerals mining and quarrying [21232]'\n",
      " 'Other non-metallic mineral mining and quarrying [21239]'\n",
      " 'Potash mining [212396]'\n",
      " 'Other non-metallic mineral mining and quarrying (except potash) [21239X]'\n",
      " 'Support activities for mining and oil and gas extraction [213]'\n",
      " 'Utilities [22]'\n",
      " 'Electric power generation, transmission and distribution [2211]'\n",
      " 'Natural gas distribution [2212]'\n",
      " 'Water, sewage and other systems [2213]' 'Construction [23]'\n",
      " 'Residential building construction [23A]'\n",
      " 'Non-residential building construction [23B]' 'Repair construction [23D]'\n",
      " 'Engineering and other construction activities [23X]'\n",
      " 'Manufacturing [31-33]' 'Food manufacturing [311]'\n",
      " 'Animal food manufacturing [3111]' 'Grain and oilseed milling [3112]'\n",
      " 'Sugar and confectionery product manufacturing [3113]'\n",
      " 'Fruit and vegetable preserving and specialty food manufacturing [3114]'\n",
      " 'Dairy product manufacturing [3115]' 'Meat product manufacturing [3116]'\n",
      " 'Seafood product preparation and packaging [3117]'\n",
      " 'Bakeries and tortilla manufacturing [3118]'\n",
      " 'Other food manufacturing [3119]'\n",
      " 'Beverage and tobacco product manufacturing [312]'\n",
      " 'Soft drink and ice manufacturing [31211]' 'Breweries [31212]'\n",
      " 'Wineries and distilleries [3121A]' 'Tobacco manufacturing [3122]'\n",
      " 'Textile, clothing and leather product manufacturing [31X]'\n",
      " 'Textile and textile product mills [31A]'\n",
      " 'Clothing and leather and allied product manufacturing [31B]'\n",
      " 'Wood product manufacturing [321]'\n",
      " 'Sawmills and wood preservation [3211]'\n",
      " 'Veneer, plywood and engineered wood product manufacturing [3212]'\n",
      " 'Other wood product manufacturing [3219]' 'Paper manufacturing [322]'\n",
      " 'Pulp, paper and paperboard mills [3221]'\n",
      " 'Converted paper product manufacturing [3222]'\n",
      " 'Printing and related support activities [323]'\n",
      " 'Petroleum and coal product manufacturing [324]'\n",
      " 'Petroleum refineries [32411]'\n",
      " 'Petroleum and coal products manufacturing (except petroleum refineries) [3241A]'\n",
      " 'Chemical manufacturing [325]' 'Basic chemical manufacturing [3251]'\n",
      " 'Resin, synthetic rubber, and artificial and synthetic fibres and filaments manufacturing [3252]'\n",
      " 'Pesticide, fertilizer and other agricultural chemical manufacturing [3253]'\n",
      " 'Pharmaceutical and medicine manufacturing [3254]'\n",
      " 'Paint, coating and adhesive manufacturing [3255]'\n",
      " 'Soap, cleaning compound and toilet preparation manufacturing [3256]'\n",
      " 'Other chemical product manufacturing [3259]'\n",
      " 'Plastics and rubber products manufacturing [326]'\n",
      " 'Plastic product manufacturing [3261]'\n",
      " 'Rubber product manufacturing [3262]'\n",
      " 'Non-metallic mineral product manufacturing [327]'\n",
      " 'Cement and concrete product manufacturing [3273]'\n",
      " 'Non-metallic mineral product manufacturing (except cement and concrete products) [327A]'\n",
      " 'Primary metal manufacturing [331]'\n",
      " 'Iron and steel mills and ferro-alloy manufacturing [3311]'\n",
      " 'Steel product manufacturing from purchased steel [3312]'\n",
      " 'Alumina and aluminum production and processing [3313]'\n",
      " 'Non-ferrous metal (except aluminum) production and processing [3314]'\n",
      " 'Foundries [3315]' 'Fabricated metal product manufacturing [332]'\n",
      " 'Forging and stamping [3321]'\n",
      " 'Architectural and structural metals manufacturing [3323]'\n",
      " 'Boiler, tank and shipping container manufacturing [3324]'\n",
      " 'Hardware manufacturing [3325]'\n",
      " 'Spring and wire product manufacturing [3326]'\n",
      " 'Machine shops, turned product, and screw, nut and bolt manufacturing [3327]'\n",
      " 'Coating, engraving, heat treating and allied activities [3328]'\n",
      " 'Cutlery, hand tools and other fabricated metal product manufacturing [332A]'\n",
      " 'Machinery manufacturing [333]'\n",
      " 'Agricultural, construction and mining machinery manufacturing [3331]'\n",
      " 'Industrial machinery manufacturing [3332]'\n",
      " 'Commercial and service industry machinery manufacturing [3333]'\n",
      " 'Ventilation, heating, air-conditioning and commercial refrigeration equipment manufacturing [3334]'\n",
      " 'Metalworking machinery manufacturing [3335]'\n",
      " 'Engine, turbine and power transmission equipment manufacturing [3336]'\n",
      " 'Other general-purpose machinery manufacturing [3339]'\n",
      " 'Computer and electronic product manufacturing [334]'\n",
      " 'Computer and peripheral equipment manufacturing [3341]'\n",
      " 'Electronic product manufacturing [334B]'\n",
      " 'Communications equipment manufacturing [3342]'\n",
      " 'Semiconductor and other electronic component manufacturing [3344]'\n",
      " 'Other electronic product manufacturing [334A]'\n",
      " 'Electrical equipment, appliance and component manufacturing [335]'\n",
      " 'Electric lighting equipment manufacturing [3351]'\n",
      " 'Household appliance manufacturing [3352]'\n",
      " 'Electrical equipment manufacturing [3353]'\n",
      " 'Other electrical equipment and component manufacturing [3359]'\n",
      " 'Transportation equipment manufacturing [336]'\n",
      " 'Motor vehicles and parts manufacturing [336Y]'\n",
      " 'Motor vehicle manufacturing [3361]'\n",
      " 'Motor vehicle body and trailer manufacturing [3362]'\n",
      " 'Motor vehicle parts manufacturing [3363]'\n",
      " 'Aerospace product and parts manufacturing [3364]'\n",
      " 'Miscellaneous transportation equipment manufacturing [336W]'\n",
      " 'Railroad rolling stock manufacturing [3365]'\n",
      " 'Ship and boat building [3366]'\n",
      " 'Other transportation equipment manufacturing [3369]'\n",
      " 'Furniture and related product manufacturing [337]'\n",
      " 'Household and institutional furniture and kitchen cabinet manufacturing [3371]'\n",
      " 'Office furniture (including fixtures) manufacturing [3372]'\n",
      " 'Other furniture-related product manufacturing [3379]'\n",
      " 'Miscellaneous manufacturing [339]'\n",
      " 'Medical equipment and supplies manufacturing [3391]'\n",
      " 'Other miscellaneous manufacturing [3399]' 'Wholesale trade [41]'\n",
      " 'Farm product wholesaler-distributors [411]'\n",
      " 'Petroleum product wholesaler-distributors [412]'\n",
      " 'Food, beverage and tobacco wholesaler-distributors [413]'\n",
      " 'Personal and household goods wholesaler-distributors [414]'\n",
      " 'Motor vehicle and parts wholesaler-distributors [415]'\n",
      " 'Building material and supplies wholesaler-distributors [416]'\n",
      " 'Machinery, equipment and supplies wholesaler-distributors [417]'\n",
      " 'Miscellaneous wholesaler-distributors [418]'\n",
      " 'Wholesale electronic markets, and agents and brokers [419]'\n",
      " 'Retail trade [44-45]' 'Motor vehicle and parts dealers [441]'\n",
      " 'Furniture and home furnishings stores [442]'\n",
      " 'Electronics and appliance stores [443]'\n",
      " 'Building material and garden equipment and supplies dealers [444]'\n",
      " 'Food and beverage stores [445]' 'Health and personal care stores [446]'\n",
      " 'Gasoline stations [447]'\n",
      " 'Clothing and clothing accessories stores [448]'\n",
      " 'Sporting goods, hobby, book and music stores [451]'\n",
      " 'General merchandise stores [452]' 'Miscellaneous store retailers [453]'\n",
      " 'Miscellaneous store retailers (except cannabis) [453A]'\n",
      " 'Cannabis stores [453B]' 'Cannabis stores (licensed) [453BL]'\n",
      " 'Cannabis stores (unlicensed) [453BU]' 'Non-store retailers [454]'\n",
      " 'Retail trade (except unlicensed cannabis) [4AZ]'\n",
      " 'Transportation and warehousing [48-49]' 'Air transportation [481]'\n",
      " 'Rail transportation [482]' 'Water transportation [483]'\n",
      " 'Truck transportation [484]'\n",
      " 'Transit, ground passenger, scenic and sightseeing transportation [48Z]'\n",
      " 'Urban transit systems [4851]' 'Taxi and limousine service [4853]'\n",
      " 'Other transit and ground passenger transportation and scenic and sightseeing transportation [48A]'\n",
      " 'Pipeline transportation [486]'\n",
      " 'Pipeline transportation of natural gas [4862]'\n",
      " 'Crude oil and other pipeline transportation [486A]'\n",
      " 'Support activities for transportation [488]'\n",
      " 'Postal service and couriers and messengers [49A]' 'Postal service [491]'\n",
      " 'Couriers and messengers [492]' 'Warehousing and storage [493]'\n",
      " 'Information and cultural industries [51]'\n",
      " 'Publishing industries (except Internet) [511]'\n",
      " 'Motion picture and sound recording industries [512]'\n",
      " 'Broadcasting (except Internet) [515]'\n",
      " 'Radio and television broadcasting [5151]'\n",
      " 'Pay and specialty television [5152]' 'Telecommunications [517]'\n",
      " 'Data processing, hosting, and related services [518]'\n",
      " 'Other information services [519]' 'Finance and insurance [52]'\n",
      " 'Credit intermediation and monetary authorities [52X]'\n",
      " 'Depository credit intermediation and monetary authorities [52B]'\n",
      " 'Local credit unions [52213]'\n",
      " 'Banking, monetary authorities and other depository credit intermediation [52BX]'\n",
      " 'Non-depository credit intermediation and activities related to credit intermediation [522A]'\n",
      " 'Non-depository credit intermediation [5222]'\n",
      " 'Activities related to credit intermediation [5223]'\n",
      " 'Insurance carriers and related activities [524]'\n",
      " 'Insurance carriers [5241]'\n",
      " 'Agencies, brokerages and other insurance related activities [5242]'\n",
      " 'Financial investment services, funds and other financial vehicles [52A]'\n",
      " 'Real estate and rental and leasing [53]' 'Real estate [531]'\n",
      " 'Lessors of real estate [5311]' 'Owner-occupied dwellings [5311A]'\n",
      " 'Offices of real estate agents and brokers and activities related to real estate [531A]'\n",
      " 'Rental and leasing services and lessors of non-financial intangible assets (except copyrighted works) [53B]'\n",
      " 'Rental and leasing services [532]'\n",
      " 'Automotive equipment rental and leasing [5321]'\n",
      " 'Rental and leasing services (except automotive equipment) [532A]'\n",
      " 'Lessors of non-financial intangible assets (except copyrighted works) [533]'\n",
      " 'Professional, scientific and technical services [54]'\n",
      " 'Legal, accounting and related services [541A]' 'Legal services [5411]'\n",
      " 'Accounting, tax preparation, bookkeeping and payroll services [5412]'\n",
      " 'Architectural, engineering and related services [5413]'\n",
      " 'Computer systems design and related services [5415]'\n",
      " 'Advertising, public relations, and related services [5418]'\n",
      " 'Other professional, scientific and technical services including scientific research and development [541B]'\n",
      " 'Specialized design services [5414]'\n",
      " 'Management, scientific and technical consulting services [5416]'\n",
      " 'Scientific research and development services [5417]'\n",
      " 'Other professional, scientific and technical services [5419]'\n",
      " 'Management of companies and enterprises [55]'\n",
      " 'Administrative and support, waste management and remediation services [56]'\n",
      " 'Administrative and support services [561]'\n",
      " 'Office administrative services [5611]' 'Employment services [5613]'\n",
      " 'Business support services [5614]'\n",
      " 'Travel arrangement and reservation services [5615]'\n",
      " 'Investigation and security services [5616]'\n",
      " 'Services to buildings and dwellings [5617]'\n",
      " 'Facilities and other support services [561A]'\n",
      " 'Waste management and remediation services [562]'\n",
      " 'Educational services [61]' 'Elementary and secondary schools [6111]'\n",
      " 'Community colleges and C.E.G.E.P.s [6112]' 'Universities [6113]'\n",
      " 'Other educational services [611A]'\n",
      " 'Health care and social assistance [62]'\n",
      " 'Ambulatory health care services [621]' 'Hospitals [622]'\n",
      " 'Nursing and residential care facilities [623]' 'Social Assistance [624]'\n",
      " 'Health care [62X]' 'Arts, entertainment and recreation [71]'\n",
      " 'Performing arts, spectator sports and related industries, and heritage institutions [71A]'\n",
      " 'Amusement, gambling and recreation industries [713]'\n",
      " 'Gambling industries [7132]' 'Amusement and recreation industries [713A]'\n",
      " 'Accommodation and food services [72]' 'Accommodation services [721]'\n",
      " 'Food services and drinking places [722]'\n",
      " 'Other services (except public administration) [81]'\n",
      " 'Repair and maintenance [811]' 'Personal and laundry services [812]'\n",
      " 'Religious, grant-making, civic, and professional and similar organizations [813]'\n",
      " 'Private households [814]' 'Public administration [91]'\n",
      " 'Federal government public administration [911]'\n",
      " 'Defence services [9111]'\n",
      " 'Federal government public administration (except defence) [911A]'\n",
      " 'Provincial and territorial public administration [912]'\n",
      " 'Local, municipal and regional public administration [913]'\n",
      " 'Aboriginal public administration [914]']\n"
     ]
    }
   ],
   "source": [
    "print(gdp_filtered_data['North American Industry Classification System (NAICS)'].unique())"
   ]
  },
  {
   "cell_type": "code",
   "execution_count": 10,
   "metadata": {},
   "outputs": [
    {
     "data": {
      "text/plain": [
       "134316    All industries [T001]\n",
       "134603    All industries [T001]\n",
       "134890    All industries [T001]\n",
       "135177    All industries [T001]\n",
       "135464    All industries [T001]\n",
       "                  ...          \n",
       "268058    All industries [T001]\n",
       "268345    All industries [T001]\n",
       "268632    All industries [T001]\n",
       "268919    All industries [T001]\n",
       "269206    All industries [T001]\n",
       "Name: North American Industry Classification System (NAICS), Length: 471, dtype: object"
      ]
     },
     "execution_count": 10,
     "metadata": {},
     "output_type": "execute_result"
    }
   ],
   "source": [
    "gdp_filtered_data = gdp_filtered_data[['Date', 'North American Industry Classification System (NAICS)', 'VALUE']]\n",
    "condition = (\n",
    "    gdp_filtered_data['North American Industry Classification System (NAICS)'] == \"All industries [T001]\"\n",
    ")\n",
    "gdp_filtered_data = gdp_filtered_data[condition]\n",
    "gdp_filtered_data.rename(columns={'VALUE': 'GDP growth rate value'}, inplace=True)\n",
    "gdp_filtered_data.pop('North American Industry Classification System (NAICS)')"
   ]
  },
  {
   "cell_type": "code",
   "execution_count": 11,
   "metadata": {},
   "outputs": [
    {
     "name": "stdout",
     "output_type": "stream",
     "text": [
      "['All levels of education' 'Less than high school' 'High school'\n",
      " 'College or trade' 'University']\n",
      "['Population, Canada' 'Population, off reserve Indigenous']\n"
     ]
    }
   ],
   "source": [
    "print(unemployment_filtered_data['Educational attainment'].unique())\n",
    "print(unemployment_filtered_data['Characteristics of the population aged 15 and over'].unique())"
   ]
  },
  {
   "cell_type": "code",
   "execution_count": 12,
   "metadata": {},
   "outputs": [
    {
     "data": {
      "text/plain": [
       "200    All levels of education\n",
       "210    All levels of education\n",
       "220    All levels of education\n",
       "230    All levels of education\n",
       "240    All levels of education\n",
       "250    All levels of education\n",
       "260    All levels of education\n",
       "270    All levels of education\n",
       "280    All levels of education\n",
       "290    All levels of education\n",
       "300    All levels of education\n",
       "310    All levels of education\n",
       "320    All levels of education\n",
       "330    All levels of education\n",
       "Name: Educational attainment, dtype: object"
      ]
     },
     "execution_count": 12,
     "metadata": {},
     "output_type": "execute_result"
    }
   ],
   "source": [
    "unemployment_filtered_data = unemployment_filtered_data[['Date',\n",
    "                                                         'Characteristics of the population aged 15 and over',\n",
    "                                                         'Educational attainment',\n",
    "                                                         'VALUE']]\n",
    "\n",
    "condition = (\n",
    "    (unemployment_filtered_data['Characteristics of the population aged 15 and over'] == \"Population, Canada\") &\n",
    "    (unemployment_filtered_data['Educational attainment'] == \"All levels of education\")\n",
    ")\n",
    "\n",
    "unemployment_filtered_data = unemployment_filtered_data[condition]\n",
    "\n",
    "unemployment_filtered_data.rename(columns={'VALUE': 'Unemployment rate value'}, inplace=True)\n",
    "\n",
    "unemployment_filtered_data.pop('Characteristics of the population aged 15 and over')\n",
    "unemployment_filtered_data.pop('Educational attainment')"
   ]
  },
  {
   "cell_type": "code",
   "execution_count": 13,
   "metadata": {},
   "outputs": [],
   "source": [
    "# Merge datasets\n",
    "# Expand CPI data to daily, assuming the CPI value is valid for the entire month\n",
    "expanded_cpi = []\n",
    "for idx, row in cpi_filtered_data.iterrows():\n",
    "    start_date = pd.to_datetime(row['Date'])\n",
    "    end_date = start_date + MonthEnd(0)  # End of the month\n",
    "    daily_dates = pd.date_range(start=start_date, end=end_date, freq='D')\n",
    "    for date in daily_dates:\n",
    "        expanded_cpi.append({'Date': date.strftime('%Y/%m/%d'), 'CPI value': row['CPI value']})\n",
    "\n",
    "cpi_expanded = pd.DataFrame(expanded_cpi)\n",
    "\n",
    "# Expand GDP data to daily, assuming the GDP value is valid for the entire month\n",
    "expanded_gdp = []\n",
    "for idx, row in gdp_filtered_data.iterrows():\n",
    "    start_date = pd.to_datetime(row['Date'])\n",
    "    end_date = start_date + MonthEnd(0)  # End of the month\n",
    "    daily_dates = pd.date_range(start=start_date, end=end_date, freq='D')\n",
    "    for date in daily_dates:\n",
    "        expanded_gdp.append({'Date': date.strftime('%Y/%m/%d'), 'GDP growth rate': row['GDP growth rate value']})\n",
    "\n",
    "gdp_expanded = pd.DataFrame(expanded_gdp)\n",
    "\n",
    "# Expand unemployment data to daily, assuming the same unemployment rate for the entire year\n",
    "unemployment_expanded = []\n",
    "for idx, row in unemployment_filtered_data.iterrows():\n",
    "    start_date = pd.to_datetime(row['Date'])\n",
    "    end_date = start_date + pd.DateOffset(years=1) - pd.DateOffset(days=1)  # End of the year\n",
    "    daily_dates = pd.date_range(start=start_date, end=end_date, freq='D')\n",
    "    for date in daily_dates:\n",
    "        unemployment_expanded.append({'Date': date.strftime('%Y/%m/%d'), 'Unemployment rate': row['Unemployment rate value']})\n",
    "\n",
    "unemployment_expanded = pd.DataFrame(unemployment_expanded)"
   ]
  },
  {
   "cell_type": "code",
   "execution_count": 14,
   "metadata": {},
   "outputs": [
    {
     "data": {
      "text/plain": [
       "0       2022/12/30\n",
       "1       2022/12/30\n",
       "2       2022/12/30\n",
       "3       2022/12/29\n",
       "4       2022/12/29\n",
       "           ...    \n",
       "9778    2010/01/05\n",
       "9779    2010/01/05\n",
       "9780    2010/01/04\n",
       "9781    2010/01/04\n",
       "9782    2010/01/04\n",
       "Name: Date, Length: 9783, dtype: object"
      ]
     },
     "execution_count": 14,
     "metadata": {},
     "output_type": "execute_result"
    }
   ],
   "source": [
    "tsx.columns = ['_'.join(filter(None, col)) if isinstance(col, tuple) else col for col in tsx.columns]\n",
    "\n",
    "merged_data = pd.merge(tsx, cpi_expanded, on='Date', how='inner')\n",
    "merged_data = pd.merge(merged_data, gdp_expanded, on='Date', how='inner')\n",
    "merged_data = pd.merge(merged_data, unemployment_expanded, on='Date', how='inner')\n",
    "merged_data.pop('Date')"
   ]
  },
  {
   "cell_type": "code",
   "execution_count": 15,
   "metadata": {},
   "outputs": [],
   "source": [
    "train_data, temp_data = train_test_split(merged_data, test_size=0.3, random_state=42)\n",
    "validation_data, test_data = train_test_split(temp_data, test_size=0.3333, random_state=42)\n",
    "target_columns = ['CPI value', 'GDP growth rate', 'Unemployment rate'] "
   ]
  },
  {
   "cell_type": "code",
   "execution_count": 16,
   "metadata": {},
   "outputs": [],
   "source": [
    "X_train = train_data.drop(columns=target_columns)\n",
    "y_train = train_data[target_columns]\n",
    "\n",
    "X_val = validation_data.drop(columns=target_columns)\n",
    "y_val = validation_data[target_columns]\n",
    "\n",
    "X_test = test_data.drop(columns=target_columns)\n",
    "y_test = test_data[target_columns]"
   ]
  },
  {
   "cell_type": "code",
   "execution_count": 17,
   "metadata": {},
   "outputs": [
    {
     "name": "stdout",
     "output_type": "stream",
     "text": [
      "Linear Regression ::: MAE: 263031.5553, RMSE: 235931173666.2933, R2: 0.33299064229650516\n"
     ]
    }
   ],
   "source": [
    "lr_model = LinearRegression()\n",
    "lr_multi_output = MultiOutputRegressor(lr_model)\n",
    "lr_multi_output.fit(X_train, y_train)\n",
    "\n",
    "lr_preds = lr_multi_output.predict(X_val)\n",
    "\n",
    "lr_mae = mean_absolute_error(y_val, lr_preds)\n",
    "lr_rmse = mean_squared_error(y_val, lr_preds)\n",
    "lr_r2 = r2_score(y_val, lr_preds)\n",
    "\n",
    "print(\"Linear Regression ::: MAE: {:.4f}, RMSE: {:.4f}, R2: {}\".format(lr_mae, lr_rmse, lr_r2))"
   ]
  },
  {
   "cell_type": "code",
   "execution_count": 18,
   "metadata": {},
   "outputs": [
    {
     "name": "stdout",
     "output_type": "stream",
     "text": [
      "SVM ::: MAE: 263031.5553, RMSE: 235931173666.2933, R2: 0.33299064229650516\n"
     ]
    }
   ],
   "source": [
    "svr_model = SVR()\n",
    "svr_multi_output = MultiOutputRegressor(svr_model)\n",
    "svr_multi_output.fit(X_train, y_train)\n",
    "\n",
    "svr_preds = svr_multi_output.predict(X_val)\n",
    "\n",
    "\n",
    "svr_mae = mean_absolute_error(y_val, svr_preds)\n",
    "svr_rmse = mean_squared_error(y_val, svr_preds)\n",
    "svr_r2 = r2_score(y_val, svr_preds)\n",
    "print(\"SVM ::: MAE: {:.4f}, RMSE: {:.4f}, R2: {}\".format(lr_mae, lr_rmse, lr_r2))"
   ]
  },
  {
   "cell_type": "code",
   "execution_count": 19,
   "metadata": {},
   "outputs": [
    {
     "name": "stdout",
     "output_type": "stream",
     "text": [
      "Random forest ::: MAE: 263031.5553, RMSE: 235931173666.2933, R2: 0.33299064229650516\n"
     ]
    }
   ],
   "source": [
    "rf_model = RandomForestRegressor(n_estimators=100, random_state=42)\n",
    "rf_multi_output = MultiOutputRegressor(rf_model)\n",
    "rf_multi_output.fit(X_train, y_train)\n",
    "\n",
    "rf_preds = rf_multi_output.predict(X_val)\n",
    "\n",
    "rf_mae = mean_absolute_error(y_val, rf_preds)\n",
    "rf_rmse = mean_squared_error(y_val, rf_preds)\n",
    "rf_r2 = r2_score(y_val, rf_preds)\n",
    "print(\"Random forest ::: MAE: {:.4f}, RMSE: {:.4f}, R2: {}\".format(lr_mae, lr_rmse, lr_r2))"
   ]
  },
  {
   "cell_type": "code",
   "execution_count": 23,
   "metadata": {},
   "outputs": [
    {
     "name": "stdout",
     "output_type": "stream",
     "text": [
      "Linear Regression ::: CV MAE: 3.4370395109355014\n",
      "SVR ::: CV MAE: 8.708376330944109\n",
      "Random Forest ::: CV MAE: 4.948426725518924\n"
     ]
    }
   ],
   "source": [
    "X = merged_data.drop(columns=target_columns)  # Drop the target column to get the features\n",
    "y = merged_data['CPI value']  # Target variable (dependent)\n",
    "lr_cv = cross_val_score(lr_model, X, y, cv=5, scoring='neg_mean_absolute_error')\n",
    "svr_cv = cross_val_score(svr_model, X, y, cv=5, scoring='neg_mean_absolute_error')\n",
    "rf_cv = cross_val_score(rf_model, X, y, cv=5, scoring='neg_mean_absolute_error')\n",
    "\n",
    "print(f\"Linear Regression ::: CV MAE: {-lr_cv.mean()}\")\n",
    "print(f\"SVR ::: CV MAE: {-svr_cv.mean()}\")\n",
    "print(f\"Random Forest ::: CV MAE: {-rf_cv.mean()}\")"
   ]
  }
 ],
 "metadata": {
  "kernelspec": {
   "display_name": "Python 3",
   "language": "python",
   "name": "python3"
  },
  "language_info": {
   "codemirror_mode": {
    "name": "ipython",
    "version": 3
   },
   "file_extension": ".py",
   "mimetype": "text/x-python",
   "name": "python",
   "nbconvert_exporter": "python",
   "pygments_lexer": "ipython3",
   "version": "3.11.5"
  }
 },
 "nbformat": 4,
 "nbformat_minor": 2
}
